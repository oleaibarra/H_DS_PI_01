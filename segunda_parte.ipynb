{
 "cells": [
  {
   "cell_type": "markdown",
   "metadata": {},
   "source": [
    "#### En sta segunda parte se trabaja con 4 archivos csv; cada uno representa a una plataforma: Amazon, Disney, Hulu, Netflix. En los archivos se encuentran las películas de cada plataforma e información referente a dichas películas. "
   ]
  },
  {
   "cell_type": "code",
   "execution_count": 97,
   "metadata": {},
   "outputs": [],
   "source": [
    "import pandas as pd\n",
    "import numpy as np"
   ]
  },
  {
   "cell_type": "markdown",
   "metadata": {},
   "source": [
    "Se cargan los archivos como data frames y se organizan en un diccionario con título 'plataformas'"
   ]
  },
  {
   "cell_type": "code",
   "execution_count": 98,
   "metadata": {},
   "outputs": [],
   "source": [
    "plataformas = {}\n",
    "plataformas['amazon'] = pd.read_csv('amazon_prime_titles.csv')\n",
    "plataformas['disney'] = pd.read_csv('disney_plus_titles.csv')\n",
    "plataformas['hulu'] = pd.read_csv('hulu_titles.csv')\n",
    "plataformas['netflix'] = pd.read_csv('netflix_titles.csv')"
   ]
  },
  {
   "cell_type": "markdown",
   "metadata": {},
   "source": [
    "##### Lo siguiente es sólo un capricho para poder visualizar los data types y valores faltantes en cada columna de todos los data frames en el diccionario al mismo tiempo"
   ]
  },
  {
   "cell_type": "markdown",
   "metadata": {},
   "source": [
    "Se crea la función extract_info() para obtener la información que queremos"
   ]
  },
  {
   "cell_type": "code",
   "execution_count": 99,
   "metadata": {},
   "outputs": [],
   "source": [
    "def extract_info(df):\n",
    "    info_data = []\n",
    "    for column in df.columns:\n",
    "        non_null_count = df[column].count()\n",
    "        dtype = df[column].dtype\n",
    "        info_data.append((column, non_null_count, dtype))\n",
    "\n",
    "    return info_data"
   ]
  },
  {
   "cell_type": "markdown",
   "metadata": {},
   "source": [
    "Se utiliza la función con cada data frame del diccionario y se guarda la información en una lista (plataformas_info)"
   ]
  },
  {
   "cell_type": "code",
   "execution_count": 100,
   "metadata": {},
   "outputs": [],
   "source": [
    "plataformas_info = []\n",
    "\n",
    "for platform, df in plataformas.items():\n",
    "    extracted_info = extract_info(df)\n",
    "    plataformas_info.append(extracted_info)"
   ]
  },
  {
   "cell_type": "markdown",
   "metadata": {},
   "source": [
    "Se crea un nuevo data frame con la información extraída"
   ]
  },
  {
   "cell_type": "code",
   "execution_count": 101,
   "metadata": {},
   "outputs": [
    {
     "name": "stderr",
     "output_type": "stream",
     "text": [
      "C:\\Users\\Usuario\\AppData\\Local\\Temp\\ipykernel_8500\\3716153612.py:8: FutureWarning: The frame.append method is deprecated and will be removed from pandas in a future version. Use pandas.concat instead.\n",
      "  summary_df = summary_df.append(temp_df, ignore_index=True)\n",
      "C:\\Users\\Usuario\\AppData\\Local\\Temp\\ipykernel_8500\\3716153612.py:8: FutureWarning: The frame.append method is deprecated and will be removed from pandas in a future version. Use pandas.concat instead.\n",
      "  summary_df = summary_df.append(temp_df, ignore_index=True)\n",
      "C:\\Users\\Usuario\\AppData\\Local\\Temp\\ipykernel_8500\\3716153612.py:8: FutureWarning: The frame.append method is deprecated and will be removed from pandas in a future version. Use pandas.concat instead.\n",
      "  summary_df = summary_df.append(temp_df, ignore_index=True)\n",
      "C:\\Users\\Usuario\\AppData\\Local\\Temp\\ipykernel_8500\\3716153612.py:8: FutureWarning: The frame.append method is deprecated and will be removed from pandas in a future version. Use pandas.concat instead.\n",
      "  summary_df = summary_df.append(temp_df, ignore_index=True)\n"
     ]
    }
   ],
   "source": [
    "summary_columns = ['Column', 'Non-Null Count', 'Dtype']\n",
    "\n",
    "summary_df = pd.DataFrame(columns=['Platform'] + summary_columns)\n",
    "\n",
    "for platform, info_data in zip(plataformas.keys(), plataformas_info):\n",
    "    temp_df = pd.DataFrame(info_data, columns=summary_columns)\n",
    "    temp_df['Platform'] = platform\n",
    "    summary_df = summary_df.append(temp_df, ignore_index=True)"
   ]
  },
  {
   "cell_type": "markdown",
   "metadata": {},
   "source": [
    "Se utiliza la función pivot_table para que la información se muestre una columna al lado de otra"
   ]
  },
  {
   "cell_type": "code",
   "execution_count": 102,
   "metadata": {},
   "outputs": [],
   "source": [
    "summary_pivot = summary_df.pivot_table(index='Column', columns='Platform', values=['Non-Null Count', 'Dtype'], aggfunc='first')\n"
   ]
  },
  {
   "cell_type": "code",
   "execution_count": 103,
   "metadata": {},
   "outputs": [
    {
     "data": {
      "text/html": [
       "<div>\n",
       "<style scoped>\n",
       "    .dataframe tbody tr th:only-of-type {\n",
       "        vertical-align: middle;\n",
       "    }\n",
       "\n",
       "    .dataframe tbody tr th {\n",
       "        vertical-align: top;\n",
       "    }\n",
       "\n",
       "    .dataframe thead tr th {\n",
       "        text-align: left;\n",
       "    }\n",
       "\n",
       "    .dataframe thead tr:last-of-type th {\n",
       "        text-align: right;\n",
       "    }\n",
       "</style>\n",
       "<table border=\"1\" class=\"dataframe\">\n",
       "  <thead>\n",
       "    <tr>\n",
       "      <th></th>\n",
       "      <th colspan=\"4\" halign=\"left\">Dtype</th>\n",
       "      <th colspan=\"4\" halign=\"left\">Non-Null Count</th>\n",
       "    </tr>\n",
       "    <tr>\n",
       "      <th>Platform</th>\n",
       "      <th>amazon</th>\n",
       "      <th>disney</th>\n",
       "      <th>hulu</th>\n",
       "      <th>netflix</th>\n",
       "      <th>amazon</th>\n",
       "      <th>disney</th>\n",
       "      <th>hulu</th>\n",
       "      <th>netflix</th>\n",
       "    </tr>\n",
       "    <tr>\n",
       "      <th>Column</th>\n",
       "      <th></th>\n",
       "      <th></th>\n",
       "      <th></th>\n",
       "      <th></th>\n",
       "      <th></th>\n",
       "      <th></th>\n",
       "      <th></th>\n",
       "      <th></th>\n",
       "    </tr>\n",
       "  </thead>\n",
       "  <tbody>\n",
       "    <tr>\n",
       "      <th>cast</th>\n",
       "      <td>object</td>\n",
       "      <td>object</td>\n",
       "      <td>float64</td>\n",
       "      <td>object</td>\n",
       "      <td>8435</td>\n",
       "      <td>1260</td>\n",
       "      <td>0</td>\n",
       "      <td>7982</td>\n",
       "    </tr>\n",
       "    <tr>\n",
       "      <th>country</th>\n",
       "      <td>object</td>\n",
       "      <td>object</td>\n",
       "      <td>object</td>\n",
       "      <td>object</td>\n",
       "      <td>672</td>\n",
       "      <td>1231</td>\n",
       "      <td>1620</td>\n",
       "      <td>7976</td>\n",
       "    </tr>\n",
       "    <tr>\n",
       "      <th>date_added</th>\n",
       "      <td>object</td>\n",
       "      <td>object</td>\n",
       "      <td>object</td>\n",
       "      <td>object</td>\n",
       "      <td>155</td>\n",
       "      <td>1447</td>\n",
       "      <td>3045</td>\n",
       "      <td>8797</td>\n",
       "    </tr>\n",
       "    <tr>\n",
       "      <th>description</th>\n",
       "      <td>object</td>\n",
       "      <td>object</td>\n",
       "      <td>object</td>\n",
       "      <td>object</td>\n",
       "      <td>9668</td>\n",
       "      <td>1450</td>\n",
       "      <td>3069</td>\n",
       "      <td>8807</td>\n",
       "    </tr>\n",
       "    <tr>\n",
       "      <th>director</th>\n",
       "      <td>object</td>\n",
       "      <td>object</td>\n",
       "      <td>object</td>\n",
       "      <td>object</td>\n",
       "      <td>7586</td>\n",
       "      <td>977</td>\n",
       "      <td>3</td>\n",
       "      <td>6173</td>\n",
       "    </tr>\n",
       "    <tr>\n",
       "      <th>duration</th>\n",
       "      <td>object</td>\n",
       "      <td>object</td>\n",
       "      <td>object</td>\n",
       "      <td>object</td>\n",
       "      <td>9668</td>\n",
       "      <td>1450</td>\n",
       "      <td>2594</td>\n",
       "      <td>8804</td>\n",
       "    </tr>\n",
       "    <tr>\n",
       "      <th>listed_in</th>\n",
       "      <td>object</td>\n",
       "      <td>object</td>\n",
       "      <td>object</td>\n",
       "      <td>object</td>\n",
       "      <td>9668</td>\n",
       "      <td>1450</td>\n",
       "      <td>3073</td>\n",
       "      <td>8807</td>\n",
       "    </tr>\n",
       "    <tr>\n",
       "      <th>rating</th>\n",
       "      <td>object</td>\n",
       "      <td>object</td>\n",
       "      <td>object</td>\n",
       "      <td>object</td>\n",
       "      <td>9331</td>\n",
       "      <td>1447</td>\n",
       "      <td>2553</td>\n",
       "      <td>8803</td>\n",
       "    </tr>\n",
       "    <tr>\n",
       "      <th>release_year</th>\n",
       "      <td>int64</td>\n",
       "      <td>int64</td>\n",
       "      <td>int64</td>\n",
       "      <td>int64</td>\n",
       "      <td>9668</td>\n",
       "      <td>1450</td>\n",
       "      <td>3073</td>\n",
       "      <td>8807</td>\n",
       "    </tr>\n",
       "    <tr>\n",
       "      <th>show_id</th>\n",
       "      <td>object</td>\n",
       "      <td>object</td>\n",
       "      <td>object</td>\n",
       "      <td>object</td>\n",
       "      <td>9668</td>\n",
       "      <td>1450</td>\n",
       "      <td>3073</td>\n",
       "      <td>8807</td>\n",
       "    </tr>\n",
       "    <tr>\n",
       "      <th>title</th>\n",
       "      <td>object</td>\n",
       "      <td>object</td>\n",
       "      <td>object</td>\n",
       "      <td>object</td>\n",
       "      <td>9668</td>\n",
       "      <td>1450</td>\n",
       "      <td>3073</td>\n",
       "      <td>8807</td>\n",
       "    </tr>\n",
       "    <tr>\n",
       "      <th>type</th>\n",
       "      <td>object</td>\n",
       "      <td>object</td>\n",
       "      <td>object</td>\n",
       "      <td>object</td>\n",
       "      <td>9668</td>\n",
       "      <td>1450</td>\n",
       "      <td>3073</td>\n",
       "      <td>8807</td>\n",
       "    </tr>\n",
       "  </tbody>\n",
       "</table>\n",
       "</div>"
      ],
      "text/plain": [
       "               Dtype                          Non-Null Count               \\\n",
       "Platform      amazon  disney     hulu netflix         amazon disney  hulu   \n",
       "Column                                                                      \n",
       "cast          object  object  float64  object           8435   1260     0   \n",
       "country       object  object   object  object            672   1231  1620   \n",
       "date_added    object  object   object  object            155   1447  3045   \n",
       "description   object  object   object  object           9668   1450  3069   \n",
       "director      object  object   object  object           7586    977     3   \n",
       "duration      object  object   object  object           9668   1450  2594   \n",
       "listed_in     object  object   object  object           9668   1450  3073   \n",
       "rating        object  object   object  object           9331   1447  2553   \n",
       "release_year   int64   int64    int64   int64           9668   1450  3073   \n",
       "show_id       object  object   object  object           9668   1450  3073   \n",
       "title         object  object   object  object           9668   1450  3073   \n",
       "type          object  object   object  object           9668   1450  3073   \n",
       "\n",
       "                      \n",
       "Platform     netflix  \n",
       "Column                \n",
       "cast            7982  \n",
       "country         7976  \n",
       "date_added      8797  \n",
       "description     8807  \n",
       "director        6173  \n",
       "duration        8804  \n",
       "listed_in       8807  \n",
       "rating          8803  \n",
       "release_year    8807  \n",
       "show_id         8807  \n",
       "title           8807  \n",
       "type            8807  "
      ]
     },
     "execution_count": 103,
     "metadata": {},
     "output_type": "execute_result"
    }
   ],
   "source": [
    "summary_pivot"
   ]
  },
  {
   "cell_type": "markdown",
   "metadata": {},
   "source": [
    "Como primera observación todas las plataformas en todas sus columnas tienen el mismo data type, excepto hulu['cast']"
   ]
  },
  {
   "cell_type": "code",
   "execution_count": 104,
   "metadata": {},
   "outputs": [],
   "source": [
    "plataformas['hulu']['cast'] = plataformas['hulu']['cast'].astype('object')"
   ]
  },
  {
   "cell_type": "markdown",
   "metadata": {},
   "source": [
    "Como segunda observación, hulu['cast'] no tiene datos, quizá por lo mismo tenía data type float. Todos los data frames tienen valores faltantes; unos más que otros. Los únicas columnas con datos completos para todas las plataformas son 'type', 'title', 'show_id', 'release_year'"
   ]
  },
  {
   "cell_type": "markdown",
   "metadata": {},
   "source": [
    "Verifiquemos que las columnas de todos los data frames tengan los nombres iguales (eventualmente buscamos concaternalos)"
   ]
  },
  {
   "cell_type": "code",
   "execution_count": 105,
   "metadata": {},
   "outputs": [
    {
     "name": "stdout",
     "output_type": "stream",
     "text": [
      "Todos los data frames tienes los mismos nombres de columnas\n"
     ]
    }
   ],
   "source": [
    "if (plataformas['amazon'].columns.equals(plataformas['disney'].columns) and\n",
    "    plataformas['amazon'].columns.equals(plataformas['hulu'].columns) and\n",
    "    plataformas['amazon'].columns.equals(plataformas['netflix'].columns)):\n",
    "    print(\"Todos los data frames tienes los mismos nombres de columnas\")\n",
    "else:\n",
    "    print(\"No tienen todos los mismos nombres de columnas\")"
   ]
  },
  {
   "cell_type": "markdown",
   "metadata": {},
   "source": [
    "Si observamos el 'show_id' (el identificador para la película o serie) que tienen los data frames de las plataformas para su primer registro, podemos ver que es el mismo. Sin embargo cada uno se refiere a una película o serie distinta. "
   ]
  },
  {
   "cell_type": "code",
   "execution_count": 106,
   "metadata": {},
   "outputs": [
    {
     "name": "stdout",
     "output_type": "stream",
     "text": [
      "amazon     show_id-index_0: s1     Title: The Grand Seduction\n",
      "disney     show_id-index_0: s1     Title: Duck the Halls: A Mickey Mouse Christmas Special\n",
      "hulu     show_id-index_0: s1     Title: Ricky Velez: Here's Everything\n",
      "netflix     show_id-index_0: s1     Title: Dick Johnson Is Dead\n"
     ]
    }
   ],
   "source": [
    "for platform in plataformas.keys():\n",
    "    print(f\"{platform}     show_id-index_0: {plataformas[platform]['show_id'].iloc[0]}     Title: {plataformas[platform]['title'].iloc[0]}\")"
   ]
  },
  {
   "cell_type": "markdown",
   "metadata": {},
   "source": [
    "Vamos a anteponerle al show_id la primera letra de cada plataforma antes de concatenarlos, para así evitar duplicidad de show_id e igualarlos a los identificadores de las películas del archivo reviews.csv"
   ]
  },
  {
   "cell_type": "code",
   "execution_count": 107,
   "metadata": {},
   "outputs": [],
   "source": [
    "for platform in plataformas.keys():\n",
    "    \n",
    "    # Primero limpiamos de posibles espacios blancos todas las columnas\n",
    "    plataformas[platform] = plataformas[platform].applymap(lambda x: x.strip() if isinstance(x, str) else x)\n",
    "    \n",
    "    # Añadimos la primera letra del nombre de la plataforma a los valores del la columna show_id\n",
    "    plataformas[platform]['show_id'] = platform[0] + plataformas[platform]['show_id']"
   ]
  },
  {
   "cell_type": "markdown",
   "metadata": {},
   "source": [
    "Verificamos"
   ]
  },
  {
   "cell_type": "code",
   "execution_count": 108,
   "metadata": {},
   "outputs": [
    {
     "name": "stdout",
     "output_type": "stream",
     "text": [
      "amazon     show_id-index_0: as1     Title: The Grand Seduction\n",
      "disney     show_id-index_0: ds1     Title: Duck the Halls: A Mickey Mouse Christmas Special\n",
      "hulu     show_id-index_0: hs1     Title: Ricky Velez: Here's Everything\n",
      "netflix     show_id-index_0: ns1     Title: Dick Johnson Is Dead\n"
     ]
    }
   ],
   "source": [
    "for platform in plataformas.keys():\n",
    "    print(f\"{platform}     show_id-index_0: {plataformas[platform]['show_id'].iloc[0]}     Title: {plataformas[platform]['title'].iloc[0]}\")"
   ]
  },
  {
   "cell_type": "markdown",
   "metadata": {},
   "source": [
    "Realizamos la concatenación de los data frames de las plataformas en un nuevo data frame que llamaremos 'plata' para simplificar. "
   ]
  },
  {
   "cell_type": "code",
   "execution_count": 109,
   "metadata": {},
   "outputs": [],
   "source": [
    "lista_platas = []\n",
    "for platform in plataformas.keys():\n",
    "    lista_platas.append(plataformas[platform])\n",
    "\n",
    "plata = pd.concat(lista_platas)"
   ]
  },
  {
   "cell_type": "code",
   "execution_count": 110,
   "metadata": {},
   "outputs": [
    {
     "name": "stdout",
     "output_type": "stream",
     "text": [
      "<class 'pandas.core.frame.DataFrame'>\n",
      "Int64Index: 22998 entries, 0 to 8806\n",
      "Data columns (total 12 columns):\n",
      " #   Column        Non-Null Count  Dtype \n",
      "---  ------        --------------  ----- \n",
      " 0   show_id       22998 non-null  object\n",
      " 1   type          22998 non-null  object\n",
      " 2   title         22998 non-null  object\n",
      " 3   director      14739 non-null  object\n",
      " 4   cast          17677 non-null  object\n",
      " 5   country       11499 non-null  object\n",
      " 6   date_added    13444 non-null  object\n",
      " 7   release_year  22998 non-null  int64 \n",
      " 8   rating        22134 non-null  object\n",
      " 9   duration      22516 non-null  object\n",
      " 10  listed_in     22998 non-null  object\n",
      " 11  description   22994 non-null  object\n",
      "dtypes: int64(1), object(11)\n",
      "memory usage: 2.3+ MB\n"
     ]
    }
   ],
   "source": [
    "plata.info()"
   ]
  },
  {
   "cell_type": "markdown",
   "metadata": {},
   "source": [
    "La columna 'rating' en realidad es la clasificación parental: g, pg, pg13, R, etc. Por lo que le cambiaremos el nombre a 'classification'"
   ]
  },
  {
   "cell_type": "code",
   "execution_count": 111,
   "metadata": {},
   "outputs": [],
   "source": [
    "plata.rename(columns={'rating': 'classification'}, inplace=True)"
   ]
  },
  {
   "cell_type": "markdown",
   "metadata": {},
   "source": [
    "Se nos pide reemplazar los valores faltantes de la columna 'classification' con 'G'"
   ]
  },
  {
   "cell_type": "code",
   "execution_count": 112,
   "metadata": {},
   "outputs": [],
   "source": [
    "plata['classification'] = plata['classification'].fillna('G')"
   ]
  },
  {
   "cell_type": "markdown",
   "metadata": {},
   "source": [
    "revisemos la columna 'classification'"
   ]
  },
  {
   "cell_type": "code",
   "execution_count": 113,
   "metadata": {},
   "outputs": [
    {
     "data": {
      "text/plain": [
       "array(['G', '13+', 'ALL', '18+', 'R', 'TV-Y', 'TV-Y7', 'NR', '16+',\n",
       "       'TV-PG', '7+', 'TV-14', 'TV-NR', 'TV-G', 'PG-13', 'TV-MA', 'PG',\n",
       "       'NC-17', 'UNRATED', '16', 'AGES_16_', 'AGES_18_', 'ALL_AGES',\n",
       "       'NOT_RATE', 'TV-Y7-FV', 'NOT RATED', '2 Seasons', '93 min',\n",
       "       '4 Seasons', '136 min', '91 min', '85 min', '98 min', '89 min',\n",
       "       '94 min', '86 min', '3 Seasons', '121 min', '88 min', '101 min',\n",
       "       '1 Season', '83 min', '100 min', '95 min', '92 min', '96 min',\n",
       "       '109 min', '99 min', '75 min', '87 min', '67 min', '104 min',\n",
       "       '107 min', '84 min', '103 min', '105 min', '119 min', '114 min',\n",
       "       '82 min', '90 min', '130 min', '110 min', '80 min', '6 Seasons',\n",
       "       '97 min', '111 min', '81 min', '49 min', '45 min', '41 min',\n",
       "       '73 min', '40 min', '36 min', '39 min', '34 min', '47 min',\n",
       "       '65 min', '37 min', '78 min', '102 min', '129 min', '115 min',\n",
       "       '112 min', '61 min', '106 min', '76 min', '77 min', '79 min',\n",
       "       '157 min', '28 min', '64 min', '7 min', '5 min', '6 min',\n",
       "       '127 min', '142 min', '108 min', '57 min', '118 min', '116 min',\n",
       "       '12 Seasons', '71 min', '74 min', '66 min', 'UR'], dtype=object)"
      ]
     },
     "execution_count": 113,
     "metadata": {},
     "output_type": "execute_result"
    }
   ],
   "source": [
    "plata['classification'].unique()"
   ]
  },
  {
   "cell_type": "markdown",
   "metadata": {},
   "source": [
    "Hay valores en la columna 'classification' que son de la columna 'duration'. Vamos a removerlos y, si en la misma fila el campo de la columna 'duration' no tiene valor, le insertaremos el valor removido. A los campos de los que removamos valores de la columna 'classification' les insertaremos la leyenda 'UNRATED'"
   ]
  },
  {
   "cell_type": "code",
   "execution_count": 114,
   "metadata": {},
   "outputs": [],
   "source": [
    "plata = plata.reset_index(drop=True)\n",
    "# creamos columnas temporales\n",
    "plata['temp_classification'] = ''\n",
    "plata['temp_duration'] = ''\n",
    "\n",
    "# extraemos la data de la columna classification \n",
    "plata.loc[plata['classification'].str.contains('min|Season'), 'temp_classification'] = plata['classification']\n",
    "plata.loc[plata['classification'].str.contains('min|Season'), 'classification'] = 'UNRATED'\n",
    "\n",
    "# extramos la data de duration de las filas correspondientes\n",
    "plata.loc[plata['temp_classification'] != '', 'temp_duration'] = plata['duration']\n",
    "plata.loc[(plata['temp_classification'] != '') & (plata['duration'] != ''), 'duration'] = plata['temp_classification']\n",
    "\n",
    "# eliminamos columnas temporales si no tienen información \n",
    "if plata['temp_classification'].isnull().all():\n",
    "    plata.drop('temp_classification', axis=1, inplace=True)\n",
    "if plata['temp_duration'].isnull().all():\n",
    "    plata.drop('temp_duration', axis=1, inplace=True)"
   ]
  },
  {
   "cell_type": "markdown",
   "metadata": {},
   "source": [
    "Revisemos que los campos de la columna 'duration' que se reemplazaron por el valor que tenía el correspondiente campo en 'classification' no tuvieran valor"
   ]
  },
  {
   "cell_type": "code",
   "execution_count": 115,
   "metadata": {},
   "outputs": [
    {
     "data": {
      "text/plain": [
       "array(['', nan], dtype=object)"
      ]
     },
     "execution_count": 115,
     "metadata": {},
     "output_type": "execute_result"
    }
   ],
   "source": [
    "plata['temp_duration'].unique()"
   ]
  },
  {
   "cell_type": "markdown",
   "metadata": {},
   "source": [
    "Podemos eliminar nuestras columnas temporales"
   ]
  },
  {
   "cell_type": "code",
   "execution_count": 116,
   "metadata": {},
   "outputs": [],
   "source": [
    "plata.drop('temp_classification', axis=1, inplace=True)\n",
    "plata.drop('temp_duration', axis=1, inplace=True)"
   ]
  },
  {
   "cell_type": "markdown",
   "metadata": {},
   "source": [
    "Le damos formato de fecha a la columna 'date_added'"
   ]
  },
  {
   "cell_type": "code",
   "execution_count": 117,
   "metadata": {},
   "outputs": [],
   "source": [
    "plata['date_added'] = pd.to_datetime(plata['date_added'].str.strip(), format='%B %d, %Y')\n",
    "plata['date_added'] = plata['date_added'].dt.strftime('%Y-%m-%d')"
   ]
  },
  {
   "cell_type": "markdown",
   "metadata": {},
   "source": [
    "Separamos los valores de la columna 'duration' en dos nuevas columnas: 'duration_type', 'duration_int'"
   ]
  },
  {
   "cell_type": "code",
   "execution_count": 118,
   "metadata": {},
   "outputs": [],
   "source": [
    "# Separamos los números y las letras en columnas diferentes\n",
    "plata[['duration_int', 'duration_type']] = plata['duration'].str.extract(r'(\\d+)\\s*(\\D+)', expand=True)\n",
    "\n",
    "# Insertamos las nuevas columnas justo después de la columna \"duration\"\n",
    "duration_idx = plata.columns.get_loc('duration')\n",
    "plata['dur_int'] = ''\n",
    "plata['dur_type'] = ''\n",
    "plata.insert(duration_idx + 1, 'duration_int', plata.pop('duration_int'))\n",
    "plata.insert(duration_idx + 2, 'duration_type', plata.pop('duration_type'))\n",
    "plata.drop(['duration'], axis=1, inplace=True)"
   ]
  },
  {
   "cell_type": "markdown",
   "metadata": {},
   "source": [
    "Eliminamos columnas temporales 'dur_int', 'dur_type'"
   ]
  },
  {
   "cell_type": "code",
   "execution_count": 119,
   "metadata": {},
   "outputs": [],
   "source": [
    "plata.drop(['dur_int', 'dur_type'], axis=1, inplace=True)"
   ]
  },
  {
   "cell_type": "markdown",
   "metadata": {},
   "source": [
    "Convertimos las columnas con campos de texto a minúsculas"
   ]
  },
  {
   "cell_type": "code",
   "execution_count": 120,
   "metadata": {},
   "outputs": [],
   "source": [
    "for column in plata.columns:\n",
    "    if column not in ['show_id', 'date_added', 'release_year', 'duration_int', 'classification']:\n",
    "        plata[column] = plata[column].apply(lambda x: x.lower() if isinstance(x, str) else x)"
   ]
  },
  {
   "cell_type": "markdown",
   "metadata": {},
   "source": [
    "Reemplazamos 'seasons' por 'season' para sólo tener dos unidades de medida en duration_type: min, season"
   ]
  },
  {
   "cell_type": "code",
   "execution_count": 121,
   "metadata": {},
   "outputs": [],
   "source": [
    "plata['duration_type'] = plata['duration_type'].str.replace('seasons', 'season')"
   ]
  },
  {
   "cell_type": "markdown",
   "metadata": {},
   "source": [
    "Unificamos clasificaciones en la columna 'classification'"
   ]
  },
  {
   "cell_type": "code",
   "execution_count": 122,
   "metadata": {},
   "outputs": [],
   "source": [
    "# Creamos diccionario con los valores que se reemplazaran y sus reemplazos\n",
    "replacement_dict = {\n",
    "    'TV-Y': 'ALL',\n",
    "    'TV-Y7': '7+',\n",
    "    'TV-PG': 'PG',\n",
    "    'TV-14': '13+',\n",
    "    'TV-NR': 'NR',\n",
    "    'TV-G': 'G',\n",
    "    'PG-13': '13+',\n",
    "    'TV-MA': '18+',\n",
    "    'NC-17': '18+',\n",
    "    'UNRATED': 'NR',\n",
    "    '16': '16+',\n",
    "    'AGES_16_': '16+',\n",
    "    'AGES_18_': '18+',\n",
    "    'ALL_AGES': 'ALL',\n",
    "    'NOT_RATE': 'NR',\n",
    "    'TV-Y7-FV': '7+',\n",
    "    'NOT RATED': 'NR',\n",
    "    'UR': 'NR'\n",
    "}\n",
    "\n",
    "# Reemplazamos los valores de la columna 'classification' utilizando el diccionario replacement_dict\n",
    "plata['classification'] = plata['classification'].replace(replacement_dict)"
   ]
  },
  {
   "cell_type": "markdown",
   "metadata": {},
   "source": [
    "Revisamos nuestras clasificaciones finales"
   ]
  },
  {
   "cell_type": "code",
   "execution_count": 123,
   "metadata": {},
   "outputs": [
    {
     "data": {
      "text/plain": [
       "array(['G', '13+', 'ALL', '18+', 'R', '7+', 'NR', '16+', 'PG'],\n",
       "      dtype=object)"
      ]
     },
     "execution_count": 123,
     "metadata": {},
     "output_type": "execute_result"
    }
   ],
   "source": [
    "plata['classification'].unique()"
   ]
  },
  {
   "cell_type": "markdown",
   "metadata": {},
   "source": [
    "Exportamos el data frame plata como archivo csv con nombre 'plata.csv'. Aquí termina la segunda_parte"
   ]
  },
  {
   "cell_type": "code",
   "execution_count": 124,
   "metadata": {},
   "outputs": [],
   "source": [
    "plata.to_csv('plata.csv', index=False)"
   ]
  }
 ],
 "metadata": {
  "kernelspec": {
   "display_name": "Python 3.9.16 ('base')",
   "language": "python",
   "name": "python3"
  },
  "language_info": {
   "codemirror_mode": {
    "name": "ipython",
    "version": 3
   },
   "file_extension": ".py",
   "mimetype": "text/x-python",
   "name": "python",
   "nbconvert_exporter": "python",
   "pygments_lexer": "ipython3",
   "version": "3.9.16"
  },
  "orig_nbformat": 4,
  "vscode": {
   "interpreter": {
    "hash": "e06ff7da33dc9620448857a90ad8b5f428f0d573d205a934d2841c8aee45ea32"
   }
  }
 },
 "nbformat": 4,
 "nbformat_minor": 2
}
